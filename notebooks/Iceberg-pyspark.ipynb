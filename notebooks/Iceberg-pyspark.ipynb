{
 "cells": [
  {
   "cell_type": "markdown",
   "id": "390d199f-22ac-4617-bcd4-e07fb5c532be",
   "metadata": {},
   "source": [
    "## Spark Iceberg\r\n"
   ]
  },
  {
   "cell_type": "markdown",
   "id": "d37f3501-ec08-4a34-971d-52616f77ce7d",
   "metadata": {},
   "source": [
    "## Criando sessão spark\r\n",
    "Esta célula cria uma **SparkSession** configurada para integrar com o **Iceberg** usando o **Hadoop Catalog**.  \r\n",
    "Ela define os parâmetros de conexão com o **MinIO** como storage S3, incluindo credenciais, endpoint e estilo de acesso, permitindo que o Spark leia e escreva tabelas Iceberg diretamente no nosso Lakehouse.\r\n"
   ]
  },
  {
   "cell_type": "code",
   "execution_count": 1,
   "id": "72530c09-4042-4309-b523-2006f0d0c18f",
   "metadata": {},
   "outputs": [],
   "source": [
    "from pyspark.sql import SparkSession\n",
    "\n",
    "# Cria SparkSession com Iceberg + Hadoop Catalog\n",
    "spark = (\n",
    "    SparkSession.builder\n",
    "    .appName(\"MinIO Parquet to Iceberg\")\n",
    "    .config(\"spark.sql.extensions\", \"org.apache.iceberg.spark.extensions.IcebergSparkSessionExtensions\")\n",
    "    .config(\"spark.sql.catalog.hadoop_catalog\", \"org.apache.iceberg.spark.SparkCatalog\")\n",
    "    .config(\"spark.sql.catalog.hadoop_catalog.type\", \"hadoop\")\n",
    "    .config(\"spark.sql.catalog.hadoop_catalog.warehouse\", \"s3a://lakehouse/\")\n",
    "    .config(\"spark.hadoop.fs.s3a.access.key\", \"minioadmin\")\n",
    "    .config(\"spark.hadoop.fs.s3a.secret.key\", \"minioadmin\")\n",
    "    .config(\"spark.hadoop.fs.s3a.endpoint\", \"http://minio:9000\")\n",
    "    .config(\"spark.hadoop.fs.s3a.path.style.access\", \"true\")\n",
    "    .config(\"spark.hadoop.fs.s3a.impl\", \"org.apache.hadoop.fs.s3a.S3AFileSystem\")\n",
    "    .getOrCreate()\n",
    ")\n",
    "\n",
    "\n"
   ]
  },
  {
   "cell_type": "markdown",
   "id": "26b2c732-8038-470c-ad85-529557d6a32d",
   "metadata": {},
   "source": [
    "# Extrair Campos e Expandir Arrays\n",
    "\n",
    "Esta célula transforma o dataset para um formato tabular mais fácil de analisar:  \n",
    "\n",
    "1. **Extrair campos do cliente:** cria colunas separadas para `gender`, `age`, `email` e `satisfaction`.  \n",
    "2. **Expandir array de itens:** cada item comprado se torna uma linha própria com `item_name`, `item_price` e `item_quantity`.  \n",
    "3. **Expandir array de tags:** cada tag de item vira uma linha na coluna `item_tag`.  \n",
    "\n",
    "O resultado é um dataframe totalmente normalizado pronto para converter em tabela iceberg\n",
    "\n"
   ]
  },
  {
   "cell_type": "code",
   "execution_count": 2,
   "id": "7d9b8682-21e5-41d9-838d-834d68b1c4b4",
   "metadata": {},
   "outputs": [],
   "source": [
    "from pyspark.sql import SparkSession, functions as F\n",
    "from pyspark.sql.types import StructType, StructField, StringType, DoubleType, IntegerType, ArrayType\n",
    "\n",
    "# -------------------------------\n",
    "# Ler dados do MinIO\n",
    "# -------------------------------\n",
    "raw_path = \"s3a://raw/sales.parquet\"\n",
    "df = spark.read.parquet(raw_path)\n",
    "\n",
    "# -------------------------------\n",
    "# Achatar customer\n",
    "# -------------------------------\n",
    "if \"customer\" in df.columns:\n",
    "    df = df.withColumn(\"customer_gender\", F.col(\"customer.gender\")) \\\n",
    "           .withColumn(\"customer_age\", F.col(\"customer.age\")) \\\n",
    "           .withColumn(\"customer_email\", F.col(\"customer.email\")) \\\n",
    "           .withColumn(\"customer_satisfaction\", F.col(\"customer.satisfaction\")) \\\n",
    "           .drop(\"customer\")\n",
    "\n",
    "# -------------------------------\n",
    "# Explodir items (array -> linhas)\n",
    "# -------------------------------\n",
    "if \"items\" in df.columns:\n",
    "    # Converter items de JSON string para StructType se for string\n",
    "    if isinstance(df.schema[\"items\"].dataType, StringType):\n",
    "        items_schema = ArrayType(\n",
    "            StructType([\n",
    "                StructField(\"name\", StringType(), True),\n",
    "                StructField(\"tags\", ArrayType(StringType(), True), True),\n",
    "                StructField(\"price\", DoubleType(), True),\n",
    "                StructField(\"quantity\", IntegerType(), True)\n",
    "            ])\n",
    "        )\n",
    "        df = df.withColumn(\"items\", F.from_json(F.col(\"items\"), items_schema))\n",
    "\n",
    "    # Explodir array items\n",
    "    df = df.withColumn(\"item\", F.explode_outer(\"items\")) \\\n",
    "           .withColumn(\"item_name\", F.col(\"item.name\")) \\\n",
    "           .withColumn(\"item_tags\", F.col(\"item.tags\")) \\\n",
    "           .withColumn(\"item_price\", F.col(\"item.price\")) \\\n",
    "           .withColumn(\"item_quantity\", F.col(\"item.quantity\")) \\\n",
    "           .drop(\"items\", \"item\")\n",
    "\n",
    "# -------------------------------\n",
    "# Explodir item_tags (array -> linhas)\n",
    "# -------------------------------\n",
    "if \"item_tags\" in df.columns:\n",
    "    df = df.withColumn(\"item_tag\", F.explode_outer(\"item_tags\")) \\\n",
    "           .drop(\"item_tags\")\n",
    "\n"
   ]
  },
  {
   "cell_type": "markdown",
   "id": "d3484c4c-d861-48ce-bd8f-039a29f58a14",
   "metadata": {},
   "source": [
    "# Criar/Atualizar Tabela Iceberg\n",
    "\n",
    "Esta célula salva o DataFrame transformado como uma **tabela gerenciada Iceberg**:  \n",
    "\n",
    "- O nome da tabela é `hadoop_catalog.sales`.  \n",
    "- Caso a tabela já exista, ela será **substituída** com os novos dados.  \n",
    "- A tabela fica armazenada no **catálogo Hadoop** configurado para o Iceberg, permitindo consultas SQL futuras via Spark.\n"
   ]
  },
  {
   "cell_type": "code",
   "execution_count": 3,
   "id": "a0997f59-f9f4-4dae-a545-25e2195541eb",
   "metadata": {},
   "outputs": [],
   "source": [
    "# Nome da tabela Iceberg\n",
    "table_name = \"hadoop_catalog.sales\"\n",
    "\n",
    "# Cria/atualiza tabela Iceberg\n",
    "df.writeTo(table_name).using(\"iceberg\").createOrReplace()"
   ]
  },
  {
   "cell_type": "markdown",
   "id": "dfed3444-f139-41a1-9c7d-04d4db316aff",
   "metadata": {},
   "source": [
    "# Consultar Todos os Dados\n",
    "\n",
    "Esta célula executa uma **consulta SQL** na tabela Iceberg `hadoop_catalog.sales` e exibe as **10 primeiras linhas**:  \n",
    "\n",
    "- `spark.sql(...)` permite escrever queries SQL diretamente no Spark.  \n",
    "- `show(10, truncate=False)` garante que todas as colunas sejam exibidas **completas**, sem cortar valores longos.  \n",
    "- Útil para **inspecionar os dados** após as transformações e salvar no Iceberg.\n"
   ]
  },
  {
   "cell_type": "code",
   "execution_count": 5,
   "id": "90de55ec-bc32-4ba7-96b8-dccb86e11c6d",
   "metadata": {},
   "outputs": [
    {
     "name": "stdout",
     "output_type": "stream",
     "text": [
      "+------------------------+--------------------------+-------------+----------+--------------+---------------+------------+----------------+---------------------+-------------+----------+-------------+------------+\n",
      "|_id                     |saleDate                  |storeLocation|couponUsed|purchaseMethod|customer_gender|customer_age|customer_email  |customer_satisfaction|item_name    |item_price|item_quantity|item_tag    |\n",
      "+------------------------+--------------------------+-------------+----------+--------------+---------------+------------+----------------+---------------------+-------------+----------+-------------+------------+\n",
      "|5bd761dcae323e45a93ccfe8|2015-03-23T21:06:49.506000|Denver       |true      |Online        |M              |42          |cauho@witwuta.sv|4                    |printer paper|40.01     |2            |office      |\n",
      "|5bd761dcae323e45a93ccfe8|2015-03-23T21:06:49.506000|Denver       |true      |Online        |M              |42          |cauho@witwuta.sv|4                    |printer paper|40.01     |2            |stationary  |\n",
      "|5bd761dcae323e45a93ccfe8|2015-03-23T21:06:49.506000|Denver       |true      |Online        |M              |42          |cauho@witwuta.sv|4                    |notepad      |35.29     |2            |office      |\n",
      "|5bd761dcae323e45a93ccfe8|2015-03-23T21:06:49.506000|Denver       |true      |Online        |M              |42          |cauho@witwuta.sv|4                    |notepad      |35.29     |2            |writing     |\n",
      "|5bd761dcae323e45a93ccfe8|2015-03-23T21:06:49.506000|Denver       |true      |Online        |M              |42          |cauho@witwuta.sv|4                    |notepad      |35.29     |2            |school      |\n",
      "|5bd761dcae323e45a93ccfe8|2015-03-23T21:06:49.506000|Denver       |true      |Online        |M              |42          |cauho@witwuta.sv|4                    |pens         |56.12     |5            |writing     |\n",
      "|5bd761dcae323e45a93ccfe8|2015-03-23T21:06:49.506000|Denver       |true      |Online        |M              |42          |cauho@witwuta.sv|4                    |pens         |56.12     |5            |office      |\n",
      "|5bd761dcae323e45a93ccfe8|2015-03-23T21:06:49.506000|Denver       |true      |Online        |M              |42          |cauho@witwuta.sv|4                    |pens         |56.12     |5            |school      |\n",
      "|5bd761dcae323e45a93ccfe8|2015-03-23T21:06:49.506000|Denver       |true      |Online        |M              |42          |cauho@witwuta.sv|4                    |pens         |56.12     |5            |stationary  |\n",
      "|5bd761dcae323e45a93ccfe8|2015-03-23T21:06:49.506000|Denver       |true      |Online        |M              |42          |cauho@witwuta.sv|4                    |backpack     |77.71     |2            |school      |\n",
      "|5bd761dcae323e45a93ccfe8|2015-03-23T21:06:49.506000|Denver       |true      |Online        |M              |42          |cauho@witwuta.sv|4                    |backpack     |77.71     |2            |travel      |\n",
      "|5bd761dcae323e45a93ccfe8|2015-03-23T21:06:49.506000|Denver       |true      |Online        |M              |42          |cauho@witwuta.sv|4                    |backpack     |77.71     |2            |kids        |\n",
      "|5bd761dcae323e45a93ccfe8|2015-03-23T21:06:49.506000|Denver       |true      |Online        |M              |42          |cauho@witwuta.sv|4                    |notepad      |18.47     |2            |office      |\n",
      "|5bd761dcae323e45a93ccfe8|2015-03-23T21:06:49.506000|Denver       |true      |Online        |M              |42          |cauho@witwuta.sv|4                    |notepad      |18.47     |2            |writing     |\n",
      "|5bd761dcae323e45a93ccfe8|2015-03-23T21:06:49.506000|Denver       |true      |Online        |M              |42          |cauho@witwuta.sv|4                    |notepad      |18.47     |2            |school      |\n",
      "|5bd761dcae323e45a93ccfe8|2015-03-23T21:06:49.506000|Denver       |true      |Online        |M              |42          |cauho@witwuta.sv|4                    |envelopes    |19.95     |8            |stationary  |\n",
      "|5bd761dcae323e45a93ccfe8|2015-03-23T21:06:49.506000|Denver       |true      |Online        |M              |42          |cauho@witwuta.sv|4                    |envelopes    |19.95     |8            |office      |\n",
      "|5bd761dcae323e45a93ccfe8|2015-03-23T21:06:49.506000|Denver       |true      |Online        |M              |42          |cauho@witwuta.sv|4                    |envelopes    |19.95     |8            |general     |\n",
      "|5bd761dcae323e45a93ccfe8|2015-03-23T21:06:49.506000|Denver       |true      |Online        |M              |42          |cauho@witwuta.sv|4                    |envelopes    |8.08      |3            |stationary  |\n",
      "|5bd761dcae323e45a93ccfe8|2015-03-23T21:06:49.506000|Denver       |true      |Online        |M              |42          |cauho@witwuta.sv|4                    |envelopes    |8.08      |3            |office      |\n",
      "|5bd761dcae323e45a93ccfe8|2015-03-23T21:06:49.506000|Denver       |true      |Online        |M              |42          |cauho@witwuta.sv|4                    |envelopes    |8.08      |3            |general     |\n",
      "|5bd761dcae323e45a93ccfe8|2015-03-23T21:06:49.506000|Denver       |true      |Online        |M              |42          |cauho@witwuta.sv|4                    |binder       |14.16     |3            |school      |\n",
      "|5bd761dcae323e45a93ccfe8|2015-03-23T21:06:49.506000|Denver       |true      |Online        |M              |42          |cauho@witwuta.sv|4                    |binder       |14.16     |3            |general     |\n",
      "|5bd761dcae323e45a93ccfe8|2015-03-23T21:06:49.506000|Denver       |true      |Online        |M              |42          |cauho@witwuta.sv|4                    |binder       |14.16     |3            |organization|\n",
      "|5bd761dcae323e45a93ccfe9|2015-08-25T10:01:02.918000|Seattle      |false     |Phone         |M              |50          |keecade@hem.uy  |5                    |envelopes    |8.05      |10           |stationary  |\n",
      "|5bd761dcae323e45a93ccfe9|2015-08-25T10:01:02.918000|Seattle      |false     |Phone         |M              |50          |keecade@hem.uy  |5                    |envelopes    |8.05      |10           |office      |\n",
      "|5bd761dcae323e45a93ccfe9|2015-08-25T10:01:02.918000|Seattle      |false     |Phone         |M              |50          |keecade@hem.uy  |5                    |envelopes    |8.05      |10           |general     |\n",
      "|5bd761dcae323e45a93ccfe9|2015-08-25T10:01:02.918000|Seattle      |false     |Phone         |M              |50          |keecade@hem.uy  |5                    |binder       |28.31     |9            |school      |\n",
      "|5bd761dcae323e45a93ccfe9|2015-08-25T10:01:02.918000|Seattle      |false     |Phone         |M              |50          |keecade@hem.uy  |5                    |binder       |28.31     |9            |general     |\n",
      "|5bd761dcae323e45a93ccfe9|2015-08-25T10:01:02.918000|Seattle      |false     |Phone         |M              |50          |keecade@hem.uy  |5                    |binder       |28.31     |9            |organization|\n",
      "+------------------------+--------------------------+-------------+----------+--------------+---------------+------------+----------------+---------------------+-------------+----------+-------------+------------+\n",
      "only showing top 30 rows\n",
      "\n"
     ]
    }
   ],
   "source": [
    "# Consulta todos os dados\n",
    "spark.sql(\"SELECT * FROM hadoop_catalog.sales\").show(30, truncate=False)"
   ]
  }
 ],
 "metadata": {
  "kernelspec": {
   "display_name": "Python 3 (ipykernel)",
   "language": "python",
   "name": "python3"
  },
  "language_info": {
   "codemirror_mode": {
    "name": "ipython",
    "version": 3
   },
   "file_extension": ".py",
   "mimetype": "text/x-python",
   "name": "python",
   "nbconvert_exporter": "python",
   "pygments_lexer": "ipython3",
   "version": "3.11.6"
  }
 },
 "nbformat": 4,
 "nbformat_minor": 5
}
